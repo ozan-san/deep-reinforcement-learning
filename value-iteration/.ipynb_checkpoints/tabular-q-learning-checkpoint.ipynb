{
 "cells": [
  {
   "cell_type": "markdown",
   "metadata": {},
   "source": [
    "# Value Iteration Methods"
   ]
  },
  {
   "cell_type": "markdown",
   "metadata": {},
   "source": [
    "## Tabular Q-Learning"
   ]
  },
  {
   "cell_type": "markdown",
   "metadata": {},
   "source": [
    "Given an MDP $(S, A, P, R, \\gamma)$, define $V^{*}(S)$ as the \"value\" of a state, that is, an agent executing all-optimal actions given the circumstances, receives a total sum of $V^{*}(S)$ of (discounted) rewards from a given state $S$. \n",
    "Similarly, define $Q^{*}(s, a)$ as the optimal sum of discounted rewards given state $s$ and an executed action on that state, $a$. "
   ]
  },
  {
   "cell_type": "markdown",
   "metadata": {},
   "source": [
    "Define $\\pi^{*}$ as the \"optimal policy\", that is, given a state $s$, $\\pi^{*}(s)$ is by definition the best action that can be executed on that state. This is easier to define in terms of the previous functions defined:\n"
   ]
  },
  {
   "cell_type": "markdown",
   "metadata": {},
   "source": [
    "$\\pi^{*}: S \\rightarrow A$\n"
   ]
  },
  {
   "cell_type": "markdown",
   "metadata": {},
   "source": [
    "If we know $Q^{*}$, we can easily extract the policy, because we can maximize the Q-value over all possible actions."
   ]
  },
  {
   "cell_type": "markdown",
   "metadata": {},
   "source": [
    "$\\pi^{*}(s) = \\text{argmax}_{a}(Q^{*}(s, a))$"
   ]
  },
  {
   "cell_type": "markdown",
   "metadata": {},
   "source": [
    "In the case of $V^{*}(s)$, we need to do one ply of expectimax, as such:"
   ]
  },
  {
   "cell_type": "markdown",
   "metadata": {},
   "source": [
    "$\\pi^{*}(s) = argmax_{a}\\sum_{s'}T(s,a,s')[R(s,a,s') + \\gamma V^{*}(s')]$"
   ]
  },
  {
   "cell_type": "markdown",
   "metadata": {},
   "source": [
    "Note that we need to be able to access the $T$ and $R$ (or, at least, learn them as well) to be able to use the Value iteration naively. Q learning does not require this."
   ]
  },
  {
   "cell_type": "markdown",
   "metadata": {},
   "source": [
    "To solve for $Q$, we need some kind of iterative method that will work its way up in a Dynamic Programming fashion, converging to the optimal Q values."
   ]
  },
  {
   "cell_type": "markdown",
   "metadata": {},
   "source": [
    "This is achieved by iteration on the Q-values."
   ]
  },
  {
   "cell_type": "markdown",
   "metadata": {},
   "source": [
    "Initializing $Q^0(s, a) = 0$ for all possible $s, a$ pairs.  \n",
    "Define an update of Q as:  \n",
    "$Q^{k+1}(s_t, a_t) \\leftarrow Q^{t}(s_t, a_t) + \\alpha * [ R(s_t, a_t, s_{t+1}) + \\gamma * \\text{max}_{a}(Q^{k}(s_{t+1}, a)) - Q^{k}(s_t, a_t)) ]$"
   ]
  },
  {
   "cell_type": "markdown",
   "metadata": {},
   "source": [
    "This basically \"nudges\" the value of Q, and provably converges to the optimal."
   ]
  },
  {
   "cell_type": "markdown",
   "metadata": {},
   "source": [
    "### How to program this  \n",
    "Creating and initializing all the Q values is trivial.  \n",
    "Finding your path on an icy lake. FrozenLake."
   ]
  },
  {
   "cell_type": "code",
   "execution_count": 10,
   "metadata": {},
   "outputs": [],
   "source": [
    "import gym\n",
    "import numpy as np\n",
    "from numpy import random"
   ]
  },
  {
   "cell_type": "code",
   "execution_count": 11,
   "metadata": {},
   "outputs": [],
   "source": [
    "env = gym.make('FrozenLake-v0')"
   ]
  },
  {
   "cell_type": "code",
   "execution_count": 18,
   "metadata": {},
   "outputs": [
    {
     "name": "stdout",
     "output_type": "stream",
     "text": [
      "16, 4\n",
      "0\n"
     ]
    }
   ],
   "source": [
    "print(f'{env.observation_space.n}, {env.action_space.n}')\n",
    "print(env.action_space.sample())\n"
   ]
  },
  {
   "cell_type": "code",
   "execution_count": null,
   "metadata": {},
   "outputs": [],
   "source": [
    "state = env.reset()\n",
    "done = False\n",
    "alpha = 0.4\n",
    "epsilon = 0.99\n",
    "epsilon_decay = 0.97\n",
    "gamma = 0.95\n",
    "\n",
    "states = env.observation_space.n\n",
    "actions = env.action_space.n\n",
    "\n",
    "qtable = np.zeros((states, actions))\n",
    "for episode in range(100000):\n",
    "    state, done = env.reset(), False\n",
    "    \n",
    "    while not done:\n",
    "        #env.render()\n",
    "        if random.rand() <= epsilon:\n",
    "            action = env.action_space.sample()\n",
    "        else:\n",
    "            action = np.argmax(qtable[state])\n",
    "        next_state, reward, done, _ = env.step(action)\n",
    "        old_qval = qtable[state][action]\n",
    "        qtable[state][action] = old_qval + alpha * (reward + gamma * np.max(qtable[next_state]) - old_qval)\n",
    "    \n",
    "    if epsilon > 0.11:\n",
    "        epsilon *= epsilon_decay\n",
    "\n",
    "print(qtable)\n",
    "        "
   ]
  }
 ],
 "metadata": {
  "kernelspec": {
   "display_name": "Python 3",
   "language": "python",
   "name": "python3"
  },
  "language_info": {
   "codemirror_mode": {
    "name": "ipython",
    "version": 3
   },
   "file_extension": ".py",
   "mimetype": "text/x-python",
   "name": "python",
   "nbconvert_exporter": "python",
   "pygments_lexer": "ipython3",
   "version": "3.7.6"
  }
 },
 "nbformat": 4,
 "nbformat_minor": 4
}
