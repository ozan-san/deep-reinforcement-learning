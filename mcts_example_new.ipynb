{
 "cells": [
  {
   "cell_type": "code",
   "execution_count": 15,
   "metadata": {},
   "outputs": [],
   "source": [
    "# The same as before, but the winning value computation is slightly changed.\n",
    "# Since we really care about the \"possible win rate\", that is, the times\n",
    "# we've won out of all the games below, we will be updating the UCB computation,\n",
    "# the backpropagation and the score calculation.\n",
    "# See: https://en.wikipedia.org/wiki/Monte_Carlo_tree_search#Principle_of_operation\n",
    "# I also want to test whether the AI plays to a draw against itself. At least,\n",
    "# this might be a step in the right direction regarding testing the algorithm."
   ]
  },
  {
   "cell_type": "code",
   "execution_count": 16,
   "metadata": {},
   "outputs": [],
   "source": [
    "from copy import deepcopy\n",
    "import numpy as np\n",
    "\n",
    "def add_score(prev_score, to_add):\n",
    "    return (prev_score[0] + to_add[0], prev_score[1] + to_add[1])\n",
    "\n",
    "def equal_arrays(ar1, ar2):\n",
    "    if len(ar1) != len(ar2):\n",
    "        return False\n",
    "    for i in range(len(ar1)):\n",
    "        if ar1[i] != ar2[i]:\n",
    "            return False\n",
    "    return True\n",
    "\n",
    "class XOX_Game():\n",
    "    def __init__(self, board = None, player=1):\n",
    "        if board is None:\n",
    "            self.board = [[0,0,0],[0,0,0],[0,0,0]]\n",
    "        else:\n",
    "            self.board = board\n",
    "        self.player = player\n",
    "    def is_terminal(self):\n",
    "        # Check if all of the board is full or not\n",
    "        not_found_empty = True\n",
    "        for i in range(3):\n",
    "            for j in range(3):\n",
    "                if self.board[i][j] == 0:\n",
    "                    not_found_empty = False\n",
    "                    break\n",
    "        if not_found_empty:\n",
    "            return True\n",
    "        # Check rows\n",
    "        for i in range(3):\n",
    "            if equal_arrays(self.board[i], [1,1,1]) or equal_arrays(self.board[i], [2,2,2]):\n",
    "                return True\n",
    "        # Check columns\n",
    "        transposed_board = list(np.transpose(np.array(self.board)))\n",
    "        \n",
    "        for i in range(3):\n",
    "            if equal_arrays(transposed_board[i], [1,1,1]) or equal_arrays(transposed_board[i], [2,2,2]):\n",
    "                return True\n",
    "        # Check diagonals\n",
    "        if self.board[0][0] == self.board[1][1] and self.board[2][2] == self.board[1][1] and (self.board[1][1] in [1,2]):\n",
    "            return True\n",
    "        if self.board[0][2] == self.board[1][1] and self.board[2][0] == self.board[1][1] and (self.board[1][1] in [1,2]):\n",
    "            return True\n",
    "        return False\n",
    "    \n",
    "    \n",
    "    \n",
    "    def get_score(self):\n",
    "        # Scores are in the format:\n",
    "        # (x_wincount, o_wincount)\n",
    "        x_wins = (1,0)\n",
    "        o_wins = (0,1)\n",
    "        draw = (0,0)\n",
    "        \n",
    "        # Check rows\n",
    "        \n",
    "        for i in range(3):\n",
    "            if equal_arrays(self.board[i], [1,1,1]):\n",
    "                return x_wins\n",
    "            elif equal_arrays(self.board[i], [2,2,2]):\n",
    "                return o_wins\n",
    "        \n",
    "        # Check columns\n",
    "        transposed_board = list(np.transpose(np.array(self.board)))\n",
    "        \n",
    "        for i in range(3):\n",
    "            if equal_arrays(transposed_board[i], [1,1,1]):\n",
    "                return x_wins\n",
    "            elif equal_arrays(transposed_board[i], [2,2,2]):\n",
    "                return o_wins\n",
    "            \n",
    "        # Check diagonals\n",
    "        if self.board[0][0] == self.board[1][1] and self.board[2][2] == self.board[1][1] and (self.board[1][1] in [1,2]):\n",
    "            if self.board[1][1] == 1:\n",
    "                return x_wins\n",
    "            else:\n",
    "                return o_wins\n",
    "        if self.board[0][2] == self.board[1][1] and self.board[2][0] == self.board[1][1] and (self.board[1][1] in [1,2]):\n",
    "            if self.board[1][1] == 1:\n",
    "                return x_wins\n",
    "            else:\n",
    "                return o_wins\n",
    "        return draw\n",
    "    def all_actions(self):\n",
    "        if self.is_terminal():\n",
    "            return []\n",
    "        actions = []\n",
    "        for i in range(3):\n",
    "            for j in range(3):\n",
    "                if self.board[i][j] == 0:\n",
    "                    actions.append((i, j))\n",
    "        return actions\n",
    "    def play_action(self, action):\n",
    "        def toggler(num):\n",
    "            if num == 1:\n",
    "                return 2\n",
    "            return 1\n",
    "        board = deepcopy(self.board)\n",
    "        board[action[0]][action[1]] = self.player\n",
    "        return XOX_Game(board, toggler(self.player))\n",
    "    def all_states(self):\n",
    "        actions = self.all_actions()\n",
    "        states = []\n",
    "        for action in actions:\n",
    "            states.append(self.play_action(action))\n",
    "        return states\n",
    "                \n",
    "    def __repr__(self):\n",
    "        resArr = [['-','-','-'],['-','-','-'],['-','-','-']]\n",
    "        \n",
    "        for i in range(3):\n",
    "            for j in range(3):\n",
    "                if self.board[i][j] == 1:\n",
    "                    resArr[i][j] = 'X'\n",
    "                elif self.board[i][j] == 2:\n",
    "                    resArr[i][j] = 'O'\n",
    "        for i in range(3):\n",
    "            resArr[i] = str(resArr[i])\n",
    "        return f\"Player {self.player}:\\n\" + \"\\n\".join(resArr) \n",
    "            \n",
    "      "
   ]
  },
  {
   "cell_type": "code",
   "execution_count": 17,
   "metadata": {},
   "outputs": [
    {
     "name": "stdout",
     "output_type": "stream",
     "text": [
      "Player 1:\n",
      "['-', '-', '-']\n",
      "['-', '-', '-']\n",
      "['-', '-', '-']\n"
     ]
    }
   ],
   "source": [
    "g = XOX_Game()\n",
    "print(g)"
   ]
  },
  {
   "cell_type": "code",
   "execution_count": 18,
   "metadata": {},
   "outputs": [
    {
     "data": {
      "text/plain": [
       "(1, 0)"
      ]
     },
     "execution_count": 18,
     "metadata": {},
     "output_type": "execute_result"
    }
   ],
   "source": [
    "g.all_states()[0].all_states()[3].all_states()[0].all_states()[1].all_states()[0].get_score()"
   ]
  },
  {
   "cell_type": "code",
   "execution_count": 19,
   "metadata": {},
   "outputs": [],
   "source": [
    "# Seems fine. Now, onto the MCTS functions. We will edit UCB1 for the new score calculation."
   ]
  },
  {
   "cell_type": "code",
   "execution_count": 24,
   "metadata": {},
   "outputs": [],
   "source": [
    "from math import sqrt\n",
    "from math import log\n",
    "from random import choice\n",
    "\n",
    "coeff = sqrt(2)\n",
    "\n",
    "class MCTSNode():\n",
    "    def __init__(self, parent, state):\n",
    "        self.parent = parent\n",
    "        self.state = state\n",
    "        self.visitCount = 0\n",
    "        self.score = (0,0)\n",
    "        self.children = []\n",
    "    def visit(self):\n",
    "        self.visitCount += 1\n",
    "    def setChildren(self, children):\n",
    "        self.children = children\n",
    "    def increment_score(self, newscore):\n",
    "        self.score = add_score(self.score, newscore)\n",
    "    def __repr__(self):\n",
    "        return f\"V:{self.visitCount}, S:{self.score}, \\n\" + str(self.state)\n",
    "        \n",
    "def backpropagate(leaf, score):\n",
    "    node = leaf\n",
    "    while not node is None:\n",
    "        node.visit()\n",
    "        node.increment_score(score) \n",
    "        node = node.parent\n",
    "    # We will only use the scores in the ucb calculation and this will be sufficient.\n",
    "\n",
    "\n",
    "def uct(node):\n",
    "    # Taken from: https://en.wikipedia.org/wiki/Monte_Carlo_tree_search\n",
    "    # w_i / n_i + c * sqrt(ln(N_i)/n_i)\n",
    "    if node.visitCount == 0:\n",
    "        return float('inf')\n",
    "    if node.state.player == 1:\n",
    "        wincount = node.score[0]\n",
    "    else:\n",
    "        wincount = node.score[1]\n",
    "    if (node.parent is None) or (node.parent.visitCount == 0):\n",
    "        return float('-inf')\n",
    "    else:\n",
    "        return (wincount / node.visitCount) + coeff * sqrt(log(node.parent.visitCount) / node.visitCount)\n",
    "\n",
    "\n",
    "def selection(node):\n",
    "    children = node.children\n",
    "    #print(children)\n",
    "    bestScore = 0\n",
    "    bestChild = None\n",
    "    for child in children:\n",
    "        newScore = uct(child)\n",
    "        if newScore > bestScore:\n",
    "            bestScore = newScore\n",
    "            bestChild = child\n",
    "    return bestChild\n",
    "\n",
    "def randomPlay(node):\n",
    "    tempState = deepcopy(node.state)\n",
    "    while not tempState.is_terminal():\n",
    "        try:\n",
    "            tempState = choice(tempState.all_states())\n",
    "        except IndexError:\n",
    "            print(\"What?\")\n",
    "            print(tempState)\n",
    "    return tempState.get_score()\n",
    "\n",
    "def expand(node):\n",
    "    newStates = node.state.all_states()\n",
    "    children = [MCTSNode(parent = node, state = s) for s in newStates]\n",
    "    node.setChildren(children)\n",
    "    \n",
    "def descend(node):\n",
    "    tempNode = node\n",
    "    while len(tempNode.children) > 0:\n",
    "        tempNode = selection(tempNode)\n",
    "    return tempNode\n",
    "\n"
   ]
  },
  {
   "cell_type": "code",
   "execution_count": 25,
   "metadata": {},
   "outputs": [],
   "source": [
    "# Fingers crossed.."
   ]
  },
  {
   "cell_type": "code",
   "execution_count": 26,
   "metadata": {},
   "outputs": [],
   "source": [
    "def MCTS(gamestate, limit = 10000):\n",
    "    # Iteration limit of 10k\n",
    "    node = MCTSNode(parent = None, state = gamestate)\n",
    "    iteration_count = 0\n",
    "    while iteration_count < limit:\n",
    "        iteration_count += 1\n",
    "        node_to_expand = descend(node)\n",
    "        if not node_to_expand.state.is_terminal():\n",
    "            expand(node_to_expand)\n",
    "            to_explore = choice(node_to_expand.children)\n",
    "            result = randomPlay(to_explore)\n",
    "            backpropagate(to_explore, result)\n",
    "        else:\n",
    "            backpropagate(node, node.state.get_score())\n",
    "    return selection(node)\n",
    "            "
   ]
  },
  {
   "cell_type": "code",
   "execution_count": 27,
   "metadata": {},
   "outputs": [
    {
     "data": {
      "text/plain": [
       "V:255, S:(117, 102), \n",
       "Player 2:\n",
       "['-', '-', '-']\n",
       "['X', '-', '-']\n",
       "['-', '-', '-']"
      ]
     },
     "execution_count": 27,
     "metadata": {},
     "output_type": "execute_result"
    }
   ],
   "source": [
    "MCTS(gamestate = XOX_Game())"
   ]
  },
  {
   "cell_type": "code",
   "execution_count": 30,
   "metadata": {},
   "outputs": [],
   "source": [
    "def comp_vs_comp():\n",
    "    state = XOX_Game()\n",
    "    while not state.is_terminal():\n",
    "        print(state)\n",
    "        node = MCTS(gamestate = state)\n",
    "        state = node.state\n",
    "    print(state)\n",
    "    return\n"
   ]
  },
  {
   "cell_type": "code",
   "execution_count": 31,
   "metadata": {},
   "outputs": [
    {
     "name": "stdout",
     "output_type": "stream",
     "text": [
      "Player 1:\n",
      "['-', '-', '-']\n",
      "['-', '-', '-']\n",
      "['-', '-', '-']\n",
      "Player 2:\n",
      "['-', 'X', '-']\n",
      "['-', '-', '-']\n",
      "['-', '-', '-']\n",
      "Player 1:\n",
      "['-', 'X', '-']\n",
      "['-', '-', 'O']\n",
      "['-', '-', '-']\n",
      "Player 2:\n",
      "['-', 'X', 'X']\n",
      "['-', '-', 'O']\n",
      "['-', '-', '-']\n",
      "Player 1:\n",
      "['-', 'X', 'X']\n",
      "['-', '-', 'O']\n",
      "['O', '-', '-']\n",
      "Player 2:\n",
      "['X', 'X', 'X']\n",
      "['-', '-', 'O']\n",
      "['O', '-', '-']\n"
     ]
    }
   ],
   "source": [
    "comp_vs_comp()"
   ]
  },
  {
   "cell_type": "code",
   "execution_count": null,
   "metadata": {},
   "outputs": [],
   "source": []
  }
 ],
 "metadata": {
  "kernelspec": {
   "display_name": "Python 3",
   "language": "python",
   "name": "python3"
  },
  "language_info": {
   "codemirror_mode": {
    "name": "ipython",
    "version": 3
   },
   "file_extension": ".py",
   "mimetype": "text/x-python",
   "name": "python",
   "nbconvert_exporter": "python",
   "pygments_lexer": "ipython3",
   "version": "3.7.6"
  }
 },
 "nbformat": 4,
 "nbformat_minor": 4
}
