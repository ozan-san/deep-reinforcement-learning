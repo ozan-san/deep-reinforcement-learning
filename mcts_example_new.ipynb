{
 "cells": [
  {
   "cell_type": "code",
   "execution_count": 2,
   "metadata": {},
   "outputs": [],
   "source": [
    "# The same as before, but the winning value computation is slightly changed.\n",
    "# Since we really care about the \"possible win rate\", that is, the times\n",
    "# we've won out of all the games below, we will be updating the UCB computation,\n",
    "# the backpropagation and the score calculation.\n",
    "# See: https://en.wikipedia.org/wiki/Monte_Carlo_tree_search#Principle_of_operation\n",
    "# I also want to test whether the AI plays to a draw against itself. At least,\n",
    "# this might be a step in the right direction regarding testing the algorithm."
   ]
  },
  {
   "cell_type": "code",
   "execution_count": 3,
   "metadata": {},
   "outputs": [],
   "source": [
    "from copy import deepcopy\n",
    "import numpy as np\n",
    "\n",
    "def add_score(prev_score, to_add):\n",
    "    return (prev_score[0] + to_add[0], prev_score[1] + to_add[1])\n",
    "\n",
    "def equal_arrays(ar1, ar2):\n",
    "    if len(ar1) != len(ar2):\n",
    "        return False\n",
    "    for i in range(len(ar1)):\n",
    "        if ar1[i] != ar2[i]:\n",
    "            return False\n",
    "    return True\n",
    "\n",
    "class XOX_Game():\n",
    "    def __init__(self, board = None, player=1):\n",
    "        if board is None:\n",
    "            self.board = [[0,0,0],[0,0,0],[0,0,0]]\n",
    "        else:\n",
    "            self.board = board\n",
    "        self.player = player\n",
    "    def is_terminal(self):\n",
    "        # Check if all of the board is full or not\n",
    "        not_found_empty = True\n",
    "        for i in range(3):\n",
    "            for j in range(3):\n",
    "                if self.board[i][j] == 0:\n",
    "                    not_found_empty = False\n",
    "                    break\n",
    "        if not_found_empty:\n",
    "            return True\n",
    "        # Check rows\n",
    "        for i in range(3):\n",
    "            if equal_arrays(self.board[i], [1,1,1]) or equal_arrays(self.board[i], [2,2,2]):\n",
    "                return True\n",
    "        # Check columns\n",
    "        transposed_board = list(np.transpose(np.array(self.board)))\n",
    "        \n",
    "        for i in range(3):\n",
    "            if equal_arrays(transposed_board[i], [1,1,1]) or equal_arrays(transposed_board[i], [2,2,2]):\n",
    "                return True\n",
    "        # Check diagonals\n",
    "        if self.board[0][0] == self.board[1][1] and self.board[2][2] == self.board[1][1] and (self.board[1][1] in [1,2]):\n",
    "            return True\n",
    "        if self.board[0][2] == self.board[1][1] and self.board[2][0] == self.board[1][1] and (self.board[1][1] in [1,2]):\n",
    "            return True\n",
    "        return False\n",
    "    \n",
    "    \n",
    "    \n",
    "    def get_score(self):\n",
    "        # Scores are in the format:\n",
    "        # (x_wincount, o_wincount)\n",
    "        x_wins = (1,0)\n",
    "        o_wins = (0,1)\n",
    "        draw = (0,0)\n",
    "        \n",
    "        # Check rows\n",
    "        \n",
    "        for i in range(3):\n",
    "            if equal_arrays(self.board[i], [1,1,1]):\n",
    "                return x_wins\n",
    "            elif equal_arrays(self.board[i], [2,2,2]):\n",
    "                return o_wins\n",
    "        \n",
    "        # Check columns\n",
    "        transposed_board = list(np.transpose(np.array(self.board)))\n",
    "        \n",
    "        for i in range(3):\n",
    "            if equal_arrays(transposed_board[i], [1,1,1]):\n",
    "                return x_wins\n",
    "            elif equal_arrays(transposed_board[i], [2,2,2]):\n",
    "                return o_wins\n",
    "            \n",
    "        # Check diagonals\n",
    "        if self.board[0][0] == self.board[1][1] and self.board[2][2] == self.board[1][1] and (self.board[1][1] in [1,2]):\n",
    "            if self.board[1][1] == 1:\n",
    "                return x_wins\n",
    "            else:\n",
    "                return o_wins\n",
    "        if self.board[0][2] == self.board[1][1] and self.board[2][0] == self.board[1][1] and (self.board[1][1] in [1,2]):\n",
    "            if self.board[1][1] == 1:\n",
    "                return x_wins\n",
    "            else:\n",
    "                return o_wins\n",
    "        return draw\n",
    "    def all_actions(self):\n",
    "        if self.is_terminal():\n",
    "            return []\n",
    "        actions = []\n",
    "        for i in range(3):\n",
    "            for j in range(3):\n",
    "                if self.board[i][j] == 0:\n",
    "                    actions.append((i, j))\n",
    "        return actions\n",
    "    def play_action(self, action):\n",
    "        def toggler(num):\n",
    "            if num == 1:\n",
    "                return 2\n",
    "            return 1\n",
    "        board = deepcopy(self.board)\n",
    "        board[action[0]][action[1]] = self.player\n",
    "        return XOX_Game(board, toggler(self.player))\n",
    "    def all_states(self):\n",
    "        actions = self.all_actions()\n",
    "        states = []\n",
    "        for action in actions:\n",
    "            states.append(self.play_action(action))\n",
    "        return states\n",
    "                \n",
    "    def __repr__(self):\n",
    "        resArr = [['-','-','-'],['-','-','-'],['-','-','-']]\n",
    "        \n",
    "        for i in range(3):\n",
    "            for j in range(3):\n",
    "                if self.board[i][j] == 1:\n",
    "                    resArr[i][j] = 'X'\n",
    "                elif self.board[i][j] == 2:\n",
    "                    resArr[i][j] = 'O'\n",
    "        for i in range(3):\n",
    "            resArr[i] = str(resArr[i])\n",
    "        return f\"Player {self.player}:\\n\" + \"\\n\".join(resArr) \n",
    "            \n",
    "      "
   ]
  },
  {
   "cell_type": "code",
   "execution_count": 4,
   "metadata": {},
   "outputs": [
    {
     "name": "stdout",
     "output_type": "stream",
     "text": [
      "Player 1:\n",
      "['-', '-', '-']\n",
      "['-', '-', '-']\n",
      "['-', '-', '-']\n"
     ]
    }
   ],
   "source": [
    "g = XOX_Game()\n",
    "print(g)"
   ]
  },
  {
   "cell_type": "code",
   "execution_count": 5,
   "metadata": {},
   "outputs": [
    {
     "data": {
      "text/plain": [
       "(1, 0)"
      ]
     },
     "execution_count": 5,
     "metadata": {},
     "output_type": "execute_result"
    }
   ],
   "source": [
    "g.all_states()[0].all_states()[3].all_states()[0].all_states()[1].all_states()[0].get_score()"
   ]
  },
  {
   "cell_type": "code",
   "execution_count": null,
   "metadata": {},
   "outputs": [],
   "source": []
  }
 ],
 "metadata": {
  "kernelspec": {
   "display_name": "Python 3",
   "language": "python",
   "name": "python3"
  },
  "language_info": {
   "codemirror_mode": {
    "name": "ipython",
    "version": 3
   },
   "file_extension": ".py",
   "mimetype": "text/x-python",
   "name": "python",
   "nbconvert_exporter": "python",
   "pygments_lexer": "ipython3",
   "version": "3.7.6"
  }
 },
 "nbformat": 4,
 "nbformat_minor": 4
}
